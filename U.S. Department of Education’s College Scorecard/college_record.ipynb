{
 "cells": [
  {
   "cell_type": "code",
   "execution_count": 1,
   "id": "a2642084",
   "metadata": {},
   "outputs": [],
   "source": [
    "# importing the relevant librairies\n",
    "import numpy as np\n",
    "import pandas as pd\n",
    "import matplotlib.pyplot as plt\n",
    "import seaborn as sns"
   ]
  },
  {
   "cell_type": "code",
   "execution_count": 2,
   "id": "4acb8d9d",
   "metadata": {},
   "outputs": [
    {
     "data": {
      "text/html": [
       "<div>\n",
       "<style scoped>\n",
       "    .dataframe tbody tr th:only-of-type {\n",
       "        vertical-align: middle;\n",
       "    }\n",
       "\n",
       "    .dataframe tbody tr th {\n",
       "        vertical-align: top;\n",
       "    }\n",
       "\n",
       "    .dataframe thead th {\n",
       "        text-align: right;\n",
       "    }\n",
       "</style>\n",
       "<table border=\"1\" class=\"dataframe\">\n",
       "  <thead>\n",
       "    <tr style=\"text-align: right;\">\n",
       "      <th></th>\n",
       "      <th>Unnamed: 0</th>\n",
       "      <th>unit_id</th>\n",
       "      <th>ope_id</th>\n",
       "      <th>main_campus</th>\n",
       "      <th>branches</th>\n",
       "      <th>open_admissions</th>\n",
       "      <th>name</th>\n",
       "      <th>city</th>\n",
       "      <th>state</th>\n",
       "      <th>zip</th>\n",
       "      <th>...</th>\n",
       "      <th>male</th>\n",
       "      <th>female</th>\n",
       "      <th>race_white</th>\n",
       "      <th>race_black</th>\n",
       "      <th>race_hispanic</th>\n",
       "      <th>race_asian</th>\n",
       "      <th>race_native</th>\n",
       "      <th>race_pacific</th>\n",
       "      <th>net_cost</th>\n",
       "      <th>race_other</th>\n",
       "    </tr>\n",
       "  </thead>\n",
       "  <tbody>\n",
       "    <tr>\n",
       "      <th>0</th>\n",
       "      <td>0</td>\n",
       "      <td>100654</td>\n",
       "      <td>1002</td>\n",
       "      <td>True</td>\n",
       "      <td>1</td>\n",
       "      <td>False</td>\n",
       "      <td>Alabama A &amp; M University</td>\n",
       "      <td>Normal</td>\n",
       "      <td>AL</td>\n",
       "      <td>35762</td>\n",
       "      <td>...</td>\n",
       "      <td>0.4861</td>\n",
       "      <td>0.5139</td>\n",
       "      <td>0.0279</td>\n",
       "      <td>0.9501</td>\n",
       "      <td>0.0089</td>\n",
       "      <td>0.0022</td>\n",
       "      <td>0.0012</td>\n",
       "      <td>0.0010</td>\n",
       "      <td>13415.0</td>\n",
       "      <td>0.0086</td>\n",
       "    </tr>\n",
       "    <tr>\n",
       "      <th>1</th>\n",
       "      <td>1</td>\n",
       "      <td>100663</td>\n",
       "      <td>1052</td>\n",
       "      <td>True</td>\n",
       "      <td>1</td>\n",
       "      <td>False</td>\n",
       "      <td>University of Alabama at Birmingham</td>\n",
       "      <td>Birmingham</td>\n",
       "      <td>AL</td>\n",
       "      <td>35294-0110</td>\n",
       "      <td>...</td>\n",
       "      <td>0.4135</td>\n",
       "      <td>0.5865</td>\n",
       "      <td>0.5987</td>\n",
       "      <td>0.2590</td>\n",
       "      <td>0.0258</td>\n",
       "      <td>0.0518</td>\n",
       "      <td>0.0026</td>\n",
       "      <td>0.0007</td>\n",
       "      <td>14805.0</td>\n",
       "      <td>0.0614</td>\n",
       "    </tr>\n",
       "    <tr>\n",
       "      <th>2</th>\n",
       "      <td>2</td>\n",
       "      <td>100690</td>\n",
       "      <td>25034</td>\n",
       "      <td>True</td>\n",
       "      <td>1</td>\n",
       "      <td>True</td>\n",
       "      <td>Amridge University</td>\n",
       "      <td>Montgomery</td>\n",
       "      <td>AL</td>\n",
       "      <td>36117-3553</td>\n",
       "      <td>...</td>\n",
       "      <td>0.3913</td>\n",
       "      <td>0.6087</td>\n",
       "      <td>0.2919</td>\n",
       "      <td>0.4224</td>\n",
       "      <td>0.0093</td>\n",
       "      <td>0.0031</td>\n",
       "      <td>0.0031</td>\n",
       "      <td>0.0031</td>\n",
       "      <td>7455.0</td>\n",
       "      <td>0.2671</td>\n",
       "    </tr>\n",
       "    <tr>\n",
       "      <th>3</th>\n",
       "      <td>3</td>\n",
       "      <td>100706</td>\n",
       "      <td>1055</td>\n",
       "      <td>True</td>\n",
       "      <td>1</td>\n",
       "      <td>False</td>\n",
       "      <td>University of Alabama in Huntsville</td>\n",
       "      <td>Huntsville</td>\n",
       "      <td>AL</td>\n",
       "      <td>35899</td>\n",
       "      <td>...</td>\n",
       "      <td>0.5580</td>\n",
       "      <td>0.4420</td>\n",
       "      <td>0.7012</td>\n",
       "      <td>0.1310</td>\n",
       "      <td>0.0338</td>\n",
       "      <td>0.0364</td>\n",
       "      <td>0.0145</td>\n",
       "      <td>0.0002</td>\n",
       "      <td>17520.0</td>\n",
       "      <td>0.0828</td>\n",
       "    </tr>\n",
       "    <tr>\n",
       "      <th>4</th>\n",
       "      <td>4</td>\n",
       "      <td>100724</td>\n",
       "      <td>1005</td>\n",
       "      <td>True</td>\n",
       "      <td>1</td>\n",
       "      <td>False</td>\n",
       "      <td>Alabama State University</td>\n",
       "      <td>Montgomery</td>\n",
       "      <td>AL</td>\n",
       "      <td>36104-0271</td>\n",
       "      <td>...</td>\n",
       "      <td>0.4085</td>\n",
       "      <td>0.5915</td>\n",
       "      <td>0.0161</td>\n",
       "      <td>0.9285</td>\n",
       "      <td>0.0114</td>\n",
       "      <td>0.0015</td>\n",
       "      <td>0.0009</td>\n",
       "      <td>0.0007</td>\n",
       "      <td>11936.0</td>\n",
       "      <td>0.0409</td>\n",
       "    </tr>\n",
       "  </tbody>\n",
       "</table>\n",
       "<p>5 rows × 52 columns</p>\n",
       "</div>"
      ],
      "text/plain": [
       "   Unnamed: 0  unit_id  ope_id  main_campus  branches  open_admissions  \\\n",
       "0           0   100654    1002         True         1            False   \n",
       "1           1   100663    1052         True         1            False   \n",
       "2           2   100690   25034         True         1             True   \n",
       "3           3   100706    1055         True         1            False   \n",
       "4           4   100724    1005         True         1            False   \n",
       "\n",
       "                                  name        city state         zip  ...  \\\n",
       "0             Alabama A & M University      Normal    AL       35762  ...   \n",
       "1  University of Alabama at Birmingham  Birmingham    AL  35294-0110  ...   \n",
       "2                   Amridge University  Montgomery    AL  36117-3553  ...   \n",
       "3  University of Alabama in Huntsville  Huntsville    AL       35899  ...   \n",
       "4             Alabama State University  Montgomery    AL  36104-0271  ...   \n",
       "\n",
       "     male  female race_white race_black  race_hispanic  race_asian  \\\n",
       "0  0.4861  0.5139     0.0279     0.9501         0.0089      0.0022   \n",
       "1  0.4135  0.5865     0.5987     0.2590         0.0258      0.0518   \n",
       "2  0.3913  0.6087     0.2919     0.4224         0.0093      0.0031   \n",
       "3  0.5580  0.4420     0.7012     0.1310         0.0338      0.0364   \n",
       "4  0.4085  0.5915     0.0161     0.9285         0.0114      0.0015   \n",
       "\n",
       "   race_native  race_pacific  net_cost  race_other  \n",
       "0       0.0012        0.0010   13415.0      0.0086  \n",
       "1       0.0026        0.0007   14805.0      0.0614  \n",
       "2       0.0031        0.0031    7455.0      0.2671  \n",
       "3       0.0145        0.0002   17520.0      0.0828  \n",
       "4       0.0009        0.0007   11936.0      0.0409  \n",
       "\n",
       "[5 rows x 52 columns]"
      ]
     },
     "execution_count": 2,
     "metadata": {},
     "output_type": "execute_result"
    }
   ],
   "source": [
    "# geting the data\n",
    "raw_data = pd.read_csv('student_2013.csv')\n",
    "raw_data.head()"
   ]
  },
  {
   "cell_type": "code",
   "execution_count": 3,
   "id": "22dc57d3",
   "metadata": {},
   "outputs": [
    {
     "data": {
      "text/html": [
       "<div>\n",
       "<style scoped>\n",
       "    .dataframe tbody tr th:only-of-type {\n",
       "        vertical-align: middle;\n",
       "    }\n",
       "\n",
       "    .dataframe tbody tr th {\n",
       "        vertical-align: top;\n",
       "    }\n",
       "\n",
       "    .dataframe thead th {\n",
       "        text-align: right;\n",
       "    }\n",
       "</style>\n",
       "<table border=\"1\" class=\"dataframe\">\n",
       "  <thead>\n",
       "    <tr style=\"text-align: right;\">\n",
       "      <th></th>\n",
       "      <th>Unnamed: 0</th>\n",
       "      <th>unit_id</th>\n",
       "      <th>ope_id</th>\n",
       "      <th>main_campus</th>\n",
       "      <th>branches</th>\n",
       "      <th>open_admissions</th>\n",
       "      <th>name</th>\n",
       "      <th>city</th>\n",
       "      <th>state</th>\n",
       "      <th>zip</th>\n",
       "      <th>...</th>\n",
       "      <th>male</th>\n",
       "      <th>female</th>\n",
       "      <th>race_white</th>\n",
       "      <th>race_black</th>\n",
       "      <th>race_hispanic</th>\n",
       "      <th>race_asian</th>\n",
       "      <th>race_native</th>\n",
       "      <th>race_pacific</th>\n",
       "      <th>net_cost</th>\n",
       "      <th>race_other</th>\n",
       "    </tr>\n",
       "  </thead>\n",
       "  <tbody>\n",
       "    <tr>\n",
       "      <th>0</th>\n",
       "      <td>0</td>\n",
       "      <td>100654</td>\n",
       "      <td>1002</td>\n",
       "      <td>True</td>\n",
       "      <td>1</td>\n",
       "      <td>False</td>\n",
       "      <td>Alabama A &amp; M University</td>\n",
       "      <td>Normal</td>\n",
       "      <td>AL</td>\n",
       "      <td>35762</td>\n",
       "      <td>...</td>\n",
       "      <td>0.4861</td>\n",
       "      <td>0.5139</td>\n",
       "      <td>0.0279</td>\n",
       "      <td>0.9501</td>\n",
       "      <td>0.0089</td>\n",
       "      <td>0.0022</td>\n",
       "      <td>0.0012</td>\n",
       "      <td>0.0010</td>\n",
       "      <td>13415.0</td>\n",
       "      <td>0.0086</td>\n",
       "    </tr>\n",
       "    <tr>\n",
       "      <th>1</th>\n",
       "      <td>1</td>\n",
       "      <td>100663</td>\n",
       "      <td>1052</td>\n",
       "      <td>True</td>\n",
       "      <td>1</td>\n",
       "      <td>False</td>\n",
       "      <td>University of Alabama at Birmingham</td>\n",
       "      <td>Birmingham</td>\n",
       "      <td>AL</td>\n",
       "      <td>35294-0110</td>\n",
       "      <td>...</td>\n",
       "      <td>0.4135</td>\n",
       "      <td>0.5865</td>\n",
       "      <td>0.5987</td>\n",
       "      <td>0.2590</td>\n",
       "      <td>0.0258</td>\n",
       "      <td>0.0518</td>\n",
       "      <td>0.0026</td>\n",
       "      <td>0.0007</td>\n",
       "      <td>14805.0</td>\n",
       "      <td>0.0614</td>\n",
       "    </tr>\n",
       "    <tr>\n",
       "      <th>2</th>\n",
       "      <td>2</td>\n",
       "      <td>100690</td>\n",
       "      <td>25034</td>\n",
       "      <td>True</td>\n",
       "      <td>1</td>\n",
       "      <td>True</td>\n",
       "      <td>Amridge University</td>\n",
       "      <td>Montgomery</td>\n",
       "      <td>AL</td>\n",
       "      <td>36117-3553</td>\n",
       "      <td>...</td>\n",
       "      <td>0.3913</td>\n",
       "      <td>0.6087</td>\n",
       "      <td>0.2919</td>\n",
       "      <td>0.4224</td>\n",
       "      <td>0.0093</td>\n",
       "      <td>0.0031</td>\n",
       "      <td>0.0031</td>\n",
       "      <td>0.0031</td>\n",
       "      <td>7455.0</td>\n",
       "      <td>0.2671</td>\n",
       "    </tr>\n",
       "    <tr>\n",
       "      <th>3</th>\n",
       "      <td>3</td>\n",
       "      <td>100706</td>\n",
       "      <td>1055</td>\n",
       "      <td>True</td>\n",
       "      <td>1</td>\n",
       "      <td>False</td>\n",
       "      <td>University of Alabama in Huntsville</td>\n",
       "      <td>Huntsville</td>\n",
       "      <td>AL</td>\n",
       "      <td>35899</td>\n",
       "      <td>...</td>\n",
       "      <td>0.5580</td>\n",
       "      <td>0.4420</td>\n",
       "      <td>0.7012</td>\n",
       "      <td>0.1310</td>\n",
       "      <td>0.0338</td>\n",
       "      <td>0.0364</td>\n",
       "      <td>0.0145</td>\n",
       "      <td>0.0002</td>\n",
       "      <td>17520.0</td>\n",
       "      <td>0.0828</td>\n",
       "    </tr>\n",
       "    <tr>\n",
       "      <th>4</th>\n",
       "      <td>4</td>\n",
       "      <td>100724</td>\n",
       "      <td>1005</td>\n",
       "      <td>True</td>\n",
       "      <td>1</td>\n",
       "      <td>False</td>\n",
       "      <td>Alabama State University</td>\n",
       "      <td>Montgomery</td>\n",
       "      <td>AL</td>\n",
       "      <td>36104-0271</td>\n",
       "      <td>...</td>\n",
       "      <td>0.4085</td>\n",
       "      <td>0.5915</td>\n",
       "      <td>0.0161</td>\n",
       "      <td>0.9285</td>\n",
       "      <td>0.0114</td>\n",
       "      <td>0.0015</td>\n",
       "      <td>0.0009</td>\n",
       "      <td>0.0007</td>\n",
       "      <td>11936.0</td>\n",
       "      <td>0.0409</td>\n",
       "    </tr>\n",
       "  </tbody>\n",
       "</table>\n",
       "<p>5 rows × 52 columns</p>\n",
       "</div>"
      ],
      "text/plain": [
       "   Unnamed: 0  unit_id  ope_id  main_campus  branches  open_admissions  \\\n",
       "0           0   100654    1002         True         1            False   \n",
       "1           1   100663    1052         True         1            False   \n",
       "2           2   100690   25034         True         1             True   \n",
       "3           3   100706    1055         True         1            False   \n",
       "4           4   100724    1005         True         1            False   \n",
       "\n",
       "                                  name        city state         zip  ...  \\\n",
       "0             Alabama A & M University      Normal    AL       35762  ...   \n",
       "1  University of Alabama at Birmingham  Birmingham    AL  35294-0110  ...   \n",
       "2                   Amridge University  Montgomery    AL  36117-3553  ...   \n",
       "3  University of Alabama in Huntsville  Huntsville    AL       35899  ...   \n",
       "4             Alabama State University  Montgomery    AL  36104-0271  ...   \n",
       "\n",
       "     male  female race_white race_black  race_hispanic  race_asian  \\\n",
       "0  0.4861  0.5139     0.0279     0.9501         0.0089      0.0022   \n",
       "1  0.4135  0.5865     0.5987     0.2590         0.0258      0.0518   \n",
       "2  0.3913  0.6087     0.2919     0.4224         0.0093      0.0031   \n",
       "3  0.5580  0.4420     0.7012     0.1310         0.0338      0.0364   \n",
       "4  0.4085  0.5915     0.0161     0.9285         0.0114      0.0015   \n",
       "\n",
       "   race_native  race_pacific  net_cost  race_other  \n",
       "0       0.0012        0.0010   13415.0      0.0086  \n",
       "1       0.0026        0.0007   14805.0      0.0614  \n",
       "2       0.0031        0.0031    7455.0      0.2671  \n",
       "3       0.0145        0.0002   17520.0      0.0828  \n",
       "4       0.0009        0.0007   11936.0      0.0409  \n",
       "\n",
       "[5 rows x 52 columns]"
      ]
     },
     "execution_count": 3,
     "metadata": {},
     "output_type": "execute_result"
    }
   ],
   "source": [
    "# making a copy of the data\n",
    "df = raw_data.copy()\n",
    "df.head()"
   ]
  },
  {
   "cell_type": "code",
   "execution_count": 4,
   "id": "8987c7c6",
   "metadata": {},
   "outputs": [
    {
     "data": {
      "text/html": [
       "<div>\n",
       "<style scoped>\n",
       "    .dataframe tbody tr th:only-of-type {\n",
       "        vertical-align: middle;\n",
       "    }\n",
       "\n",
       "    .dataframe tbody tr th {\n",
       "        vertical-align: top;\n",
       "    }\n",
       "\n",
       "    .dataframe thead th {\n",
       "        text-align: right;\n",
       "    }\n",
       "</style>\n",
       "<table border=\"1\" class=\"dataframe\">\n",
       "  <thead>\n",
       "    <tr style=\"text-align: right;\">\n",
       "      <th></th>\n",
       "      <th>Unnamed: 0</th>\n",
       "      <th>unit_id</th>\n",
       "      <th>ope_id</th>\n",
       "      <th>main_campus</th>\n",
       "      <th>branches</th>\n",
       "      <th>open_admissions</th>\n",
       "      <th>name</th>\n",
       "      <th>city</th>\n",
       "      <th>state</th>\n",
       "      <th>zip</th>\n",
       "      <th>...</th>\n",
       "      <th>male</th>\n",
       "      <th>female</th>\n",
       "      <th>race_white</th>\n",
       "      <th>race_black</th>\n",
       "      <th>race_hispanic</th>\n",
       "      <th>race_asian</th>\n",
       "      <th>race_native</th>\n",
       "      <th>race_pacific</th>\n",
       "      <th>net_cost</th>\n",
       "      <th>race_other</th>\n",
       "    </tr>\n",
       "  </thead>\n",
       "  <tbody>\n",
       "    <tr>\n",
       "      <th>3307</th>\n",
       "      <td>3307</td>\n",
       "      <td>47702001</td>\n",
       "      <td>1459</td>\n",
       "      <td>False</td>\n",
       "      <td>99</td>\n",
       "      <td>False</td>\n",
       "      <td>Strayer University-Schaumburg Campus</td>\n",
       "      <td>Schaumburg</td>\n",
       "      <td>IL</td>\n",
       "      <td>601735081</td>\n",
       "      <td>...</td>\n",
       "      <td>NaN</td>\n",
       "      <td>NaN</td>\n",
       "      <td>NaN</td>\n",
       "      <td>NaN</td>\n",
       "      <td>NaN</td>\n",
       "      <td>NaN</td>\n",
       "      <td>NaN</td>\n",
       "      <td>NaN</td>\n",
       "      <td>NaN</td>\n",
       "      <td>NaN</td>\n",
       "    </tr>\n",
       "    <tr>\n",
       "      <th>3308</th>\n",
       "      <td>3308</td>\n",
       "      <td>47702002</td>\n",
       "      <td>1459</td>\n",
       "      <td>False</td>\n",
       "      <td>99</td>\n",
       "      <td>False</td>\n",
       "      <td>Strayer University-Downers Grove Campus</td>\n",
       "      <td>Downers Grove</td>\n",
       "      <td>IL</td>\n",
       "      <td>605151169</td>\n",
       "      <td>...</td>\n",
       "      <td>NaN</td>\n",
       "      <td>NaN</td>\n",
       "      <td>NaN</td>\n",
       "      <td>NaN</td>\n",
       "      <td>NaN</td>\n",
       "      <td>NaN</td>\n",
       "      <td>NaN</td>\n",
       "      <td>NaN</td>\n",
       "      <td>NaN</td>\n",
       "      <td>NaN</td>\n",
       "    </tr>\n",
       "    <tr>\n",
       "      <th>3309</th>\n",
       "      <td>3309</td>\n",
       "      <td>47702003</td>\n",
       "      <td>1459</td>\n",
       "      <td>False</td>\n",
       "      <td>99</td>\n",
       "      <td>False</td>\n",
       "      <td>Strayer University-Aurora Campus</td>\n",
       "      <td>Aurora</td>\n",
       "      <td>IL</td>\n",
       "      <td>605066220</td>\n",
       "      <td>...</td>\n",
       "      <td>NaN</td>\n",
       "      <td>NaN</td>\n",
       "      <td>NaN</td>\n",
       "      <td>NaN</td>\n",
       "      <td>NaN</td>\n",
       "      <td>NaN</td>\n",
       "      <td>NaN</td>\n",
       "      <td>NaN</td>\n",
       "      <td>NaN</td>\n",
       "      <td>NaN</td>\n",
       "    </tr>\n",
       "    <tr>\n",
       "      <th>3310</th>\n",
       "      <td>3310</td>\n",
       "      <td>48065701</td>\n",
       "      <td>8694</td>\n",
       "      <td>False</td>\n",
       "      <td>23</td>\n",
       "      <td>False</td>\n",
       "      <td>Rasmussen College - Overland Park</td>\n",
       "      <td>Overland Park</td>\n",
       "      <td>KS</td>\n",
       "      <td>662102786</td>\n",
       "      <td>...</td>\n",
       "      <td>NaN</td>\n",
       "      <td>NaN</td>\n",
       "      <td>NaN</td>\n",
       "      <td>NaN</td>\n",
       "      <td>NaN</td>\n",
       "      <td>NaN</td>\n",
       "      <td>NaN</td>\n",
       "      <td>NaN</td>\n",
       "      <td>NaN</td>\n",
       "      <td>NaN</td>\n",
       "    </tr>\n",
       "    <tr>\n",
       "      <th>3311</th>\n",
       "      <td>3311</td>\n",
       "      <td>48158001</td>\n",
       "      <td>1459</td>\n",
       "      <td>False</td>\n",
       "      <td>99</td>\n",
       "      <td>False</td>\n",
       "      <td>Strayer University-St Louis-Brentwood</td>\n",
       "      <td>Brentwood</td>\n",
       "      <td>MO</td>\n",
       "      <td>63144</td>\n",
       "      <td>...</td>\n",
       "      <td>NaN</td>\n",
       "      <td>NaN</td>\n",
       "      <td>NaN</td>\n",
       "      <td>NaN</td>\n",
       "      <td>NaN</td>\n",
       "      <td>NaN</td>\n",
       "      <td>NaN</td>\n",
       "      <td>NaN</td>\n",
       "      <td>NaN</td>\n",
       "      <td>NaN</td>\n",
       "    </tr>\n",
       "  </tbody>\n",
       "</table>\n",
       "<p>5 rows × 52 columns</p>\n",
       "</div>"
      ],
      "text/plain": [
       "      Unnamed: 0   unit_id  ope_id  main_campus  branches  open_admissions  \\\n",
       "3307        3307  47702001    1459        False        99            False   \n",
       "3308        3308  47702002    1459        False        99            False   \n",
       "3309        3309  47702003    1459        False        99            False   \n",
       "3310        3310  48065701    8694        False        23            False   \n",
       "3311        3311  48158001    1459        False        99            False   \n",
       "\n",
       "                                         name           city state        zip  \\\n",
       "3307     Strayer University-Schaumburg Campus     Schaumburg    IL  601735081   \n",
       "3308  Strayer University-Downers Grove Campus  Downers Grove    IL  605151169   \n",
       "3309         Strayer University-Aurora Campus         Aurora    IL  605066220   \n",
       "3310        Rasmussen College - Overland Park  Overland Park    KS  662102786   \n",
       "3311    Strayer University-St Louis-Brentwood      Brentwood    MO      63144   \n",
       "\n",
       "      ... male female race_white race_black  race_hispanic  race_asian  \\\n",
       "3307  ...  NaN    NaN        NaN        NaN            NaN         NaN   \n",
       "3308  ...  NaN    NaN        NaN        NaN            NaN         NaN   \n",
       "3309  ...  NaN    NaN        NaN        NaN            NaN         NaN   \n",
       "3310  ...  NaN    NaN        NaN        NaN            NaN         NaN   \n",
       "3311  ...  NaN    NaN        NaN        NaN            NaN         NaN   \n",
       "\n",
       "      race_native  race_pacific  net_cost  race_other  \n",
       "3307          NaN           NaN       NaN         NaN  \n",
       "3308          NaN           NaN       NaN         NaN  \n",
       "3309          NaN           NaN       NaN         NaN  \n",
       "3310          NaN           NaN       NaN         NaN  \n",
       "3311          NaN           NaN       NaN         NaN  \n",
       "\n",
       "[5 rows x 52 columns]"
      ]
     },
     "execution_count": 4,
     "metadata": {},
     "output_type": "execute_result"
    }
   ],
   "source": [
    "# checking the bottom 5 entries\n",
    "df.tail()"
   ]
  },
  {
   "cell_type": "code",
   "execution_count": 5,
   "id": "97b5135e",
   "metadata": {},
   "outputs": [
    {
     "data": {
      "text/plain": [
       "3274"
      ]
     },
     "execution_count": 5,
     "metadata": {},
     "output_type": "execute_result"
    }
   ],
   "source": [
    "df.name.nunique()"
   ]
  },
  {
   "cell_type": "code",
   "execution_count": 6,
   "id": "d8355db8",
   "metadata": {},
   "outputs": [
    {
     "name": "stdout",
     "output_type": "stream",
     "text": [
      "<class 'pandas.core.frame.DataFrame'>\n",
      "RangeIndex: 3312 entries, 0 to 3311\n",
      "Data columns (total 52 columns):\n",
      " #   Column                   Non-Null Count  Dtype  \n",
      "---  ------                   --------------  -----  \n",
      " 0   Unnamed: 0               3312 non-null   int64  \n",
      " 1   unit_id                  3312 non-null   int64  \n",
      " 2   ope_id                   3312 non-null   int64  \n",
      " 3   main_campus              3312 non-null   bool   \n",
      " 4   branches                 3312 non-null   int64  \n",
      " 5   open_admissions          3312 non-null   bool   \n",
      " 6   name                     3312 non-null   object \n",
      " 7   city                     3312 non-null   object \n",
      " 8   state                    3312 non-null   object \n",
      " 9   zip                      3312 non-null   object \n",
      " 10  online_only              3113 non-null   object \n",
      " 11  primary_degree           3312 non-null   object \n",
      " 12  highest_degree           3312 non-null   object \n",
      " 13  ownership                3312 non-null   object \n",
      " 14  avg_sat                  1389 non-null   float64\n",
      " 15  undergrad_pop            2822 non-null   float64\n",
      " 16  grad_pop                 2163 non-null   float64\n",
      " 17  cost                     2595 non-null   float64\n",
      " 18  tuition                  2840 non-null   float64\n",
      " 19  tuition_nonresident      2677 non-null   float64\n",
      " 20  revenue_per_student      3111 non-null   float64\n",
      " 21  spend_per_student        3111 non-null   float64\n",
      " 22  avg_faculty_salary       2995 non-null   float64\n",
      " 23  ft_faculty               2754 non-null   float64\n",
      " 24  admission                1896 non-null   float64\n",
      " 25  retention                2346 non-null   float64\n",
      " 26  completion               2448 non-null   float64\n",
      " 27  fed_loan                 2802 non-null   float64\n",
      " 28  pell_grant               2802 non-null   float64\n",
      " 29  avg_family_inc           3045 non-null   float64\n",
      " 30  med_family_inc           3045 non-null   float64\n",
      " 31  avg_10yr_salary          2832 non-null   float64\n",
      " 32  sd_10yr_salary           2832 non-null   float64\n",
      " 33  med_10yr_salary          2832 non-null   float64\n",
      " 34  med_debt                 2825 non-null   float64\n",
      " 35  med_debt_withdraw        2823 non-null   float64\n",
      " 36  default_3yr_rate         3129 non-null   float64\n",
      " 37  repay_5yr_rate_withdraw  2774 non-null   float64\n",
      " 38  repay_5yr_rate           2520 non-null   float64\n",
      " 39  avg_entry_age            3045 non-null   float64\n",
      " 40  veteran                  1577 non-null   float64\n",
      " 41  first_gen                2807 non-null   float64\n",
      " 42  male                     2822 non-null   float64\n",
      " 43  female                   2822 non-null   float64\n",
      " 44  race_white               2822 non-null   float64\n",
      " 45  race_black               2822 non-null   float64\n",
      " 46  race_hispanic            2822 non-null   float64\n",
      " 47  race_asian               2822 non-null   float64\n",
      " 48  race_native              2822 non-null   float64\n",
      " 49  race_pacific             2822 non-null   float64\n",
      " 50  net_cost                 2623 non-null   float64\n",
      " 51  race_other               2822 non-null   float64\n",
      "dtypes: bool(2), float64(38), int64(4), object(8)\n",
      "memory usage: 1.3+ MB\n"
     ]
    }
   ],
   "source": [
    "# getting the total information of data\n",
    "df.info()"
   ]
  },
  {
   "cell_type": "markdown",
   "id": "26008651",
   "metadata": {},
   "source": [
    "### 1. How many observations are recorded in the dataset? How many colleges are recorded?"
   ]
  },
  {
   "cell_type": "code",
   "execution_count": 7,
   "id": "7af46296",
   "metadata": {},
   "outputs": [
    {
     "data": {
      "text/plain": [
       "3312"
      ]
     },
     "execution_count": 7,
     "metadata": {},
     "output_type": "execute_result"
    }
   ],
   "source": [
    "# number of observations\n",
    "df.shape[0]"
   ]
  },
  {
   "cell_type": "code",
   "execution_count": 8,
   "id": "7150bc69",
   "metadata": {},
   "outputs": [
    {
     "data": {
      "text/plain": [
       "3274"
      ]
     },
     "execution_count": 8,
     "metadata": {},
     "output_type": "execute_result"
    }
   ],
   "source": [
    "# How many colleges\n",
    "df.name.nunique()"
   ]
  },
  {
   "cell_type": "markdown",
   "id": "1832baa5",
   "metadata": {},
   "source": [
    "2. How many features are there? How many of these are categorical? How many are discrete? Are there\n",
    "any other kinds of features in this dataset?"
   ]
  },
  {
   "cell_type": "code",
   "execution_count": 9,
   "id": "1a184e2d",
   "metadata": {},
   "outputs": [
    {
     "data": {
      "text/plain": [
       "52"
      ]
     },
     "execution_count": 9,
     "metadata": {},
     "output_type": "execute_result"
    }
   ],
   "source": [
    "# How many features are there\n",
    "df.shape[1]"
   ]
  },
  {
   "cell_type": "code",
   "execution_count": 10,
   "id": "da2ad7a9",
   "metadata": {},
   "outputs": [
    {
     "name": "stdout",
     "output_type": "stream",
     "text": [
      "<class 'pandas.core.frame.DataFrame'>\n",
      "RangeIndex: 3312 entries, 0 to 3311\n",
      "Data columns (total 52 columns):\n",
      " #   Column                   Non-Null Count  Dtype  \n",
      "---  ------                   --------------  -----  \n",
      " 0   Unnamed: 0               3312 non-null   int64  \n",
      " 1   unit_id                  3312 non-null   int64  \n",
      " 2   ope_id                   3312 non-null   int64  \n",
      " 3   main_campus              3312 non-null   bool   \n",
      " 4   branches                 3312 non-null   int64  \n",
      " 5   open_admissions          3312 non-null   bool   \n",
      " 6   name                     3312 non-null   object \n",
      " 7   city                     3312 non-null   object \n",
      " 8   state                    3312 non-null   object \n",
      " 9   zip                      3312 non-null   object \n",
      " 10  online_only              3113 non-null   object \n",
      " 11  primary_degree           3312 non-null   object \n",
      " 12  highest_degree           3312 non-null   object \n",
      " 13  ownership                3312 non-null   object \n",
      " 14  avg_sat                  1389 non-null   float64\n",
      " 15  undergrad_pop            2822 non-null   float64\n",
      " 16  grad_pop                 2163 non-null   float64\n",
      " 17  cost                     2595 non-null   float64\n",
      " 18  tuition                  2840 non-null   float64\n",
      " 19  tuition_nonresident      2677 non-null   float64\n",
      " 20  revenue_per_student      3111 non-null   float64\n",
      " 21  spend_per_student        3111 non-null   float64\n",
      " 22  avg_faculty_salary       2995 non-null   float64\n",
      " 23  ft_faculty               2754 non-null   float64\n",
      " 24  admission                1896 non-null   float64\n",
      " 25  retention                2346 non-null   float64\n",
      " 26  completion               2448 non-null   float64\n",
      " 27  fed_loan                 2802 non-null   float64\n",
      " 28  pell_grant               2802 non-null   float64\n",
      " 29  avg_family_inc           3045 non-null   float64\n",
      " 30  med_family_inc           3045 non-null   float64\n",
      " 31  avg_10yr_salary          2832 non-null   float64\n",
      " 32  sd_10yr_salary           2832 non-null   float64\n",
      " 33  med_10yr_salary          2832 non-null   float64\n",
      " 34  med_debt                 2825 non-null   float64\n",
      " 35  med_debt_withdraw        2823 non-null   float64\n",
      " 36  default_3yr_rate         3129 non-null   float64\n",
      " 37  repay_5yr_rate_withdraw  2774 non-null   float64\n",
      " 38  repay_5yr_rate           2520 non-null   float64\n",
      " 39  avg_entry_age            3045 non-null   float64\n",
      " 40  veteran                  1577 non-null   float64\n",
      " 41  first_gen                2807 non-null   float64\n",
      " 42  male                     2822 non-null   float64\n",
      " 43  female                   2822 non-null   float64\n",
      " 44  race_white               2822 non-null   float64\n",
      " 45  race_black               2822 non-null   float64\n",
      " 46  race_hispanic            2822 non-null   float64\n",
      " 47  race_asian               2822 non-null   float64\n",
      " 48  race_native              2822 non-null   float64\n",
      " 49  race_pacific             2822 non-null   float64\n",
      " 50  net_cost                 2623 non-null   float64\n",
      " 51  race_other               2822 non-null   float64\n",
      "dtypes: bool(2), float64(38), int64(4), object(8)\n",
      "memory usage: 1.3+ MB\n"
     ]
    }
   ],
   "source": [
    "#  How many of these are categorical?\n",
    "df.info()"
   ]
  },
  {
   "cell_type": "markdown",
   "id": "f5b5f209",
   "metadata": {},
   "source": [
    "From above we can see that datset is having categorical features like unit_id, ope_id, name, city, state, and zip.APrt from this there are some discrete feature like branches, undergrad_pop, & grad_pop and some continueous features like avg_sat, cost, tuition,tuition_nonresident,revenue_per_student,spend_per_student, avg_faculty_salary, ft_faculty etc. Also two bollean features named main campus and open_admissions are there  "
   ]
  },
  {
   "cell_type": "markdown",
   "id": "01a37662",
   "metadata": {},
   "source": [
    "### 3.How many missing values are in the dataset? Which feature has the most missing values? Are there any patterns?"
   ]
  },
  {
   "cell_type": "code",
   "execution_count": 11,
   "id": "3a9f0f6f",
   "metadata": {},
   "outputs": [
    {
     "data": {
      "text/plain": [
       "23197"
      ]
     },
     "execution_count": 11,
     "metadata": {},
     "output_type": "execute_result"
    }
   ],
   "source": [
    "# how many missing values in datset?\n",
    "df.isna().sum().sum()"
   ]
  },
  {
   "cell_type": "code",
   "execution_count": 12,
   "id": "0f3934f4",
   "metadata": {},
   "outputs": [
    {
     "data": {
      "text/plain": [
       "avg_sat    1923\n",
       "dtype: int64"
      ]
     },
     "execution_count": 12,
     "metadata": {},
     "output_type": "execute_result"
    }
   ],
   "source": [
    "# Which feature has the most missing values?\n",
    "df.isna().sum().nlargest(1)"
   ]
  },
  {
   "cell_type": "code",
   "execution_count": 13,
   "id": "efc5ee8f",
   "metadata": {},
   "outputs": [
    {
     "data": {
      "text/plain": [
       "<AxesSubplot:>"
      ]
     },
     "execution_count": 13,
     "metadata": {},
     "output_type": "execute_result"
    },
    {
     "data": {
      "image/png": "[encoded data removed]",
      "text/plain": [
       "<Figure size 1200x1000 with 1 Axes>"
      ]
     },
     "metadata": {},
     "output_type": "display_data"
    }
   ],
   "source": [
    "#  Are there any patterns?\n",
    "plt.figure(figsize=(12,10))\n",
    "df.isna().sum().plot(kind = 'barh')"
   ]
  },
  {
   "cell_type": "markdown",
   "id": "635c10b3",
   "metadata": {},
   "source": [
    "From above we can see that certain features belonging to a category like percentage of male i.e. male, female,race white,race_black etc,med_10yr salary,sd_10yr salary etc these features are having same NaN values"
   ]
  },
  {
   "cell_type": "markdown",
   "id": "877e076a",
   "metadata": {},
   "source": [
    "### 4.Are there more public colleges or private colleges recorded? For each of these, what are the proportions of highest degree awarded? Display this information in one graph and comment on what you see."
   ]
  },
  {
   "cell_type": "code",
   "execution_count": 14,
   "id": "439de49b",
   "metadata": {},
   "outputs": [
    {
     "data": {
      "text/plain": [
       "array(['Public', 'Nonprofit', 'For Profit'], dtype=object)"
      ]
     },
     "execution_count": 14,
     "metadata": {},
     "output_type": "execute_result"
    }
   ],
   "source": [
    "# checking the unique values of ownership\n",
    "df.ownership.unique()"
   ]
  },
  {
   "cell_type": "code",
   "execution_count": 15,
   "id": "d5160b03",
   "metadata": {},
   "outputs": [
    {
     "data": {
      "text/plain": [
       "array(['Graduate', 'Bachelor', 'Associate', 'Certificate', 'Other'],\n",
       "      dtype=object)"
      ]
     },
     "execution_count": 15,
     "metadata": {},
     "output_type": "execute_result"
    }
   ],
   "source": [
    "# checking the highest_degree unique values\n",
    "df.highest_degree.unique()"
   ]
  },
  {
   "cell_type": "code",
   "execution_count": 16,
   "id": "a6ed3b9a",
   "metadata": {},
   "outputs": [
    {
     "data": {
      "text/plain": [
       "<AxesSubplot:xlabel='ownership', ylabel='count'>"
      ]
     },
     "execution_count": 16,
     "metadata": {},
     "output_type": "execute_result"
    },
    {
     "data": {
      "image/png": "[encoded data removed]",
      "text/plain": [
       "<Figure size 640x480 with 1 Axes>"
      ]
     },
     "metadata": {},
     "output_type": "display_data"
    }
   ],
   "source": [
    "sns.countplot(x='ownership',hue='highest_degree',data = df)"
   ]
  },
  {
   "cell_type": "markdown",
   "id": "f0f1b6fc",
   "metadata": {},
   "source": [
    "From above we can conclude that, public colleges recorded are far less than private colleges.In Public & Nonprofit college highest degree awarded is Graduate followed by the Bachelor. In For profit colleges,opposite is happening, like highest degree awarded is Bachelor & followed by Gradute & then follwed by others."
   ]
  },
  {
   "cell_type": "markdown",
   "id": "05079784",
   "metadata": {},
   "source": [
    "### 5.What is the average undergraduate population? What is the median? What are the deciles? Display these statistics and the distribution graphically. Do you notice anything unusual?"
   ]
  },
  {
   "cell_type": "code",
   "execution_count": 17,
   "id": "de82ef75",
   "metadata": {},
   "outputs": [
    {
     "data": {
      "text/plain": [
       "3599.5021261516654"
      ]
     },
     "execution_count": 17,
     "metadata": {},
     "output_type": "execute_result"
    }
   ],
   "source": [
    "# What is the average undergraduate population?\n",
    "df.undergrad_pop.mean()"
   ]
  },
  {
   "cell_type": "code",
   "execution_count": 18,
   "id": "7c3d684f",
   "metadata": {},
   "outputs": [
    {
     "data": {
      "text/plain": [
       "1295.0"
      ]
     },
     "execution_count": 18,
     "metadata": {},
     "output_type": "execute_result"
    }
   ],
   "source": [
    "# What is the median?\n",
    "df.undergrad_pop.median()"
   ]
  },
  {
   "cell_type": "code",
   "execution_count": 19,
   "id": "a848c163",
   "metadata": {},
   "outputs": [
    {
     "data": {
      "text/plain": [
       "0.1     153.0\n",
       "0.2     319.2\n",
       "0.3     536.0\n",
       "0.4     847.6\n",
       "0.5    1295.0\n",
       "0.6    1811.8\n",
       "0.7    2674.5\n",
       "0.8    4550.8\n",
       "0.9    9629.8\n",
       "Name: undergrad_pop, dtype: float64"
      ]
     },
     "execution_count": 19,
     "metadata": {},
     "output_type": "execute_result"
    }
   ],
   "source": [
    "deciles = df.undergrad_pop.quantile(np.arange(0.1,1,0.1))\n",
    "deciles"
   ]
  },
  {
   "cell_type": "code",
   "execution_count": 20,
   "id": "f91309dd",
   "metadata": {},
   "outputs": [
    {
     "data": {
      "text/plain": [
       "16552.149999999983"
      ]
     },
     "execution_count": 20,
     "metadata": {},
     "output_type": "execute_result"
    }
   ],
   "source": [
    "# finding the 95th percentile\n",
    "df.undergrad_pop.quantile(0.95)"
   ]
  },
  {
   "cell_type": "code",
   "execution_count": 21,
   "id": "e9ff654e",
   "metadata": {},
   "outputs": [
    {
     "data": {
      "image/png": "[encoded data removed]",
      "text/plain": [
       "<Figure size 1000x800 with 1 Axes>"
      ]
     },
     "metadata": {},
     "output_type": "display_data"
    }
   ],
   "source": [
    "# plotting the boxplot\n",
    "plt.figure(figsize = (10,8))\n",
    "sns.boxplot(y = df.undergrad_pop)\n",
    "plt.show()"
   ]
  },
  {
   "cell_type": "code",
   "execution_count": 22,
   "id": "44dbf012",
   "metadata": {},
   "outputs": [
    {
     "name": "stderr",
     "output_type": "stream",
     "text": [
      "C:\\ProgramData\\Anaconda3\\lib\\site-packages\\seaborn\\distributions.py:2619: FutureWarning: `distplot` is a deprecated function and will be removed in a future version. Please adapt your code to use either `displot` (a figure-level function with similar flexibility) or `histplot` (an axes-level function for histograms).\n",
      "  warnings.warn(msg, FutureWarning)\n"
     ]
    },
    {
     "data": {
      "image/png": "[encoded data removed]",
      "text/plain": [
       "<Figure size 1000x800 with 1 Axes>"
      ]
     },
     "metadata": {},
     "output_type": "display_data"
    }
   ],
   "source": [
    "# plotting the distribution of undergarduate population with distplot\n",
    "plt.figure(figsize = (10,8))\n",
    "sns.distplot(df.undergrad_pop)\n",
    "plt.show()"
   ]
  },
  {
   "cell_type": "markdown",
   "id": "e7f3e9a9",
   "metadata": {},
   "source": [
    "From above, we can conclude that maximum of data like 95% of the undergarduate population is below 16552, which can be visualised in box plot as well as distribution plot.Maximum data is having the low values than 22000 to 25000. nearly 1% values are greater than 25000..Again this can be clearly visible in high dense distribution.Obviously the 1 % values which are greater than 25000 are outliers."
   ]
  },
  {
   "cell_type": "markdown",
   "id": "75d6c09c",
   "metadata": {},
   "source": [
    "### 6. Compare tuition graphically in the 5 most populous states. Discuss conclusions you can draw from your results."
   ]
  },
  {
   "cell_type": "code",
   "execution_count": 23,
   "id": "36b21f58",
   "metadata": {},
   "outputs": [],
   "source": [
    "df['total_pop'] = df.undergrad_pop + df.grad_pop"
   ]
  },
  {
   "cell_type": "code",
   "execution_count": 24,
   "id": "afd6293c",
   "metadata": {},
   "outputs": [
    {
     "data": {
      "text/html": [
       "<div>\n",
       "<style scoped>\n",
       "    .dataframe tbody tr th:only-of-type {\n",
       "        vertical-align: middle;\n",
       "    }\n",
       "\n",
       "    .dataframe tbody tr th {\n",
       "        vertical-align: top;\n",
       "    }\n",
       "\n",
       "    .dataframe thead th {\n",
       "        text-align: right;\n",
       "    }\n",
       "</style>\n",
       "<table border=\"1\" class=\"dataframe\">\n",
       "  <thead>\n",
       "    <tr style=\"text-align: right;\">\n",
       "      <th></th>\n",
       "      <th>total_pop</th>\n",
       "      <th>tuition</th>\n",
       "    </tr>\n",
       "    <tr>\n",
       "      <th>state</th>\n",
       "      <th></th>\n",
       "      <th></th>\n",
       "    </tr>\n",
       "  </thead>\n",
       "  <tbody>\n",
       "    <tr>\n",
       "      <th>CA</th>\n",
       "      <td>1088113.0</td>\n",
       "      <td>3939475.0</td>\n",
       "    </tr>\n",
       "    <tr>\n",
       "      <th>NY</th>\n",
       "      <td>818130.0</td>\n",
       "      <td>4040314.0</td>\n",
       "    </tr>\n",
       "    <tr>\n",
       "      <th>TX</th>\n",
       "      <td>738444.0</td>\n",
       "      <td>2001375.0</td>\n",
       "    </tr>\n",
       "    <tr>\n",
       "      <th>FL</th>\n",
       "      <td>567501.0</td>\n",
       "      <td>2583778.0</td>\n",
       "    </tr>\n",
       "    <tr>\n",
       "      <th>PA</th>\n",
       "      <td>500154.0</td>\n",
       "      <td>3374654.0</td>\n",
       "    </tr>\n",
       "  </tbody>\n",
       "</table>\n",
       "</div>"
      ],
      "text/plain": [
       "       total_pop    tuition\n",
       "state                      \n",
       "CA     1088113.0  3939475.0\n",
       "NY      818130.0  4040314.0\n",
       "TX      738444.0  2001375.0\n",
       "FL      567501.0  2583778.0\n",
       "PA      500154.0  3374654.0"
      ]
     },
     "execution_count": 24,
     "metadata": {},
     "output_type": "execute_result"
    }
   ],
   "source": [
    "df.groupby('state')[['total_pop','tuition']].sum().nlargest(5,'total_pop')"
   ]
  },
  {
   "cell_type": "code",
   "execution_count": 25,
   "id": "6fa731c0",
   "metadata": {},
   "outputs": [
    {
     "data": {
      "text/plain": [
       "<AxesSubplot:xlabel='state'>"
      ]
     },
     "execution_count": 25,
     "metadata": {},
     "output_type": "execute_result"
    },
    {
     "data": {
      "image/png": "[encoded data removed]",
      "text/plain": [
       "<Figure size 640x480 with 1 Axes>"
      ]
     },
     "metadata": {},
     "output_type": "display_data"
    }
   ],
   "source": [
    "df.groupby('state')[['total_pop','tuition']].sum().nlargest(5,'total_pop').plot(kind = 'bar')"
   ]
  },
  {
   "cell_type": "markdown",
   "id": "a82829da",
   "metadata": {},
   "source": [
    "From above we can see that thogh the NY state population is slightly less than the max populous sate i.e. CA, but NY is having maximum tuition fee, then followed by CA and PA"
   ]
  },
  {
   "cell_type": "markdown",
   "id": "ad63f94d",
   "metadata": {},
   "source": [
    "Top 5 states in terms of tuition fess are shown above"
   ]
  },
  {
   "cell_type": "markdown",
   "id": "2b6f0d73",
   "metadata": {},
   "source": [
    "#### 7.a What is the name of the university with the largest value of avg_sat?"
   ]
  },
  {
   "cell_type": "code",
   "execution_count": 26,
   "id": "675b1699",
   "metadata": {},
   "outputs": [
    {
     "data": {
      "text/html": [
       "<div>\n",
       "<style scoped>\n",
       "    .dataframe tbody tr th:only-of-type {\n",
       "        vertical-align: middle;\n",
       "    }\n",
       "\n",
       "    .dataframe tbody tr th {\n",
       "        vertical-align: top;\n",
       "    }\n",
       "\n",
       "    .dataframe thead th {\n",
       "        text-align: right;\n",
       "    }\n",
       "</style>\n",
       "<table border=\"1\" class=\"dataframe\">\n",
       "  <thead>\n",
       "    <tr style=\"text-align: right;\">\n",
       "      <th></th>\n",
       "      <th>name</th>\n",
       "    </tr>\n",
       "  </thead>\n",
       "  <tbody>\n",
       "    <tr>\n",
       "      <th>104</th>\n",
       "      <td>California Institute of Technology</td>\n",
       "    </tr>\n",
       "  </tbody>\n",
       "</table>\n",
       "</div>"
      ],
      "text/plain": [
       "                                   name\n",
       "104  California Institute of Technology"
      ]
     },
     "execution_count": 26,
     "metadata": {},
     "output_type": "execute_result"
    }
   ],
   "source": [
    "df.nlargest(1,'avg_sat')[['name']]"
   ]
  },
  {
   "cell_type": "markdown",
   "id": "0b972d84",
   "metadata": {},
   "source": [
    "#### 7.b Does the university with the largest amount of undergrad_pop have open admissions?"
   ]
  },
  {
   "cell_type": "code",
   "execution_count": 27,
   "id": "e75969b2",
   "metadata": {},
   "outputs": [
    {
     "data": {
      "text/html": [
       "<div>\n",
       "<style scoped>\n",
       "    .dataframe tbody tr th:only-of-type {\n",
       "        vertical-align: middle;\n",
       "    }\n",
       "\n",
       "    .dataframe tbody tr th {\n",
       "        vertical-align: top;\n",
       "    }\n",
       "\n",
       "    .dataframe thead th {\n",
       "        text-align: right;\n",
       "    }\n",
       "</style>\n",
       "<table border=\"1\" class=\"dataframe\">\n",
       "  <thead>\n",
       "    <tr style=\"text-align: right;\">\n",
       "      <th></th>\n",
       "      <th>name</th>\n",
       "      <th>open_admissions</th>\n",
       "    </tr>\n",
       "  </thead>\n",
       "  <tbody>\n",
       "    <tr>\n",
       "      <th>2370</th>\n",
       "      <td>University of Phoenix-Online Campus</td>\n",
       "      <td>True</td>\n",
       "    </tr>\n",
       "  </tbody>\n",
       "</table>\n",
       "</div>"
      ],
      "text/plain": [
       "                                     name  open_admissions\n",
       "2370  University of Phoenix-Online Campus             True"
      ]
     },
     "execution_count": 27,
     "metadata": {},
     "output_type": "execute_result"
    }
   ],
   "source": [
    "df.nlargest(1,'undergrad_pop')[['name','open_admissions']]"
   ]
  },
  {
   "cell_type": "markdown",
   "id": "6c0b5df3",
   "metadata": {},
   "source": [
    "so we can see that university with the largest amount of undergrad_pop named University of Phoenix-Online Campus have open admissions."
   ]
  },
  {
   "cell_type": "markdown",
   "id": "faf76108",
   "metadata": {},
   "source": [
    "#### 7.c List the zip code of the public university with the smallest value of avg_family_inc."
   ]
  },
  {
   "cell_type": "code",
   "execution_count": 28,
   "id": "0fb6f73a",
   "metadata": {},
   "outputs": [
    {
     "data": {
      "text/html": [
       "<div>\n",
       "<style scoped>\n",
       "    .dataframe tbody tr th:only-of-type {\n",
       "        vertical-align: middle;\n",
       "    }\n",
       "\n",
       "    .dataframe tbody tr th {\n",
       "        vertical-align: top;\n",
       "    }\n",
       "\n",
       "    .dataframe thead th {\n",
       "        text-align: right;\n",
       "    }\n",
       "</style>\n",
       "<table border=\"1\" class=\"dataframe\">\n",
       "  <thead>\n",
       "    <tr style=\"text-align: right;\">\n",
       "      <th></th>\n",
       "      <th>name</th>\n",
       "      <th>zip</th>\n",
       "    </tr>\n",
       "  </thead>\n",
       "  <tbody>\n",
       "    <tr>\n",
       "      <th>1281</th>\n",
       "      <td>CUNY School of Law</td>\n",
       "      <td>11101</td>\n",
       "    </tr>\n",
       "  </tbody>\n",
       "</table>\n",
       "</div>"
      ],
      "text/plain": [
       "                    name    zip\n",
       "1281  CUNY School of Law  11101"
      ]
     },
     "execution_count": 28,
     "metadata": {},
     "output_type": "execute_result"
    }
   ],
   "source": [
    "df.groupby('ownership').get_group('Public').nsmallest(1,'avg_family_inc')[['name','zip']]"
   ]
  },
  {
   "cell_type": "markdown",
   "id": "fa3bc8a4",
   "metadata": {},
   "source": [
    "#### 7.d Does the university you found in part b. also have the largest amount of grad_pop?"
   ]
  },
  {
   "cell_type": "code",
   "execution_count": 29,
   "id": "1836dfd9",
   "metadata": {},
   "outputs": [
    {
     "data": {
      "text/html": [
       "<div>\n",
       "<style scoped>\n",
       "    .dataframe tbody tr th:only-of-type {\n",
       "        vertical-align: middle;\n",
       "    }\n",
       "\n",
       "    .dataframe tbody tr th {\n",
       "        vertical-align: top;\n",
       "    }\n",
       "\n",
       "    .dataframe thead th {\n",
       "        text-align: right;\n",
       "    }\n",
       "</style>\n",
       "<table border=\"1\" class=\"dataframe\">\n",
       "  <thead>\n",
       "    <tr style=\"text-align: right;\">\n",
       "      <th></th>\n",
       "      <th>Unnamed: 0</th>\n",
       "      <th>unit_id</th>\n",
       "      <th>ope_id</th>\n",
       "      <th>main_campus</th>\n",
       "      <th>branches</th>\n",
       "      <th>open_admissions</th>\n",
       "      <th>avg_sat</th>\n",
       "      <th>undergrad_pop</th>\n",
       "      <th>grad_pop</th>\n",
       "      <th>cost</th>\n",
       "      <th>...</th>\n",
       "      <th>female</th>\n",
       "      <th>race_white</th>\n",
       "      <th>race_black</th>\n",
       "      <th>race_hispanic</th>\n",
       "      <th>race_asian</th>\n",
       "      <th>race_native</th>\n",
       "      <th>race_pacific</th>\n",
       "      <th>net_cost</th>\n",
       "      <th>race_other</th>\n",
       "      <th>total_pop</th>\n",
       "    </tr>\n",
       "    <tr>\n",
       "      <th>name</th>\n",
       "      <th></th>\n",
       "      <th></th>\n",
       "      <th></th>\n",
       "      <th></th>\n",
       "      <th></th>\n",
       "      <th></th>\n",
       "      <th></th>\n",
       "      <th></th>\n",
       "      <th></th>\n",
       "      <th></th>\n",
       "      <th></th>\n",
       "      <th></th>\n",
       "      <th></th>\n",
       "      <th></th>\n",
       "      <th></th>\n",
       "      <th></th>\n",
       "      <th></th>\n",
       "      <th></th>\n",
       "      <th></th>\n",
       "      <th></th>\n",
       "      <th></th>\n",
       "    </tr>\n",
       "  </thead>\n",
       "  <tbody>\n",
       "    <tr>\n",
       "      <th>Walden University</th>\n",
       "      <td>247</td>\n",
       "      <td>125231</td>\n",
       "      <td>25042</td>\n",
       "      <td>1</td>\n",
       "      <td>1</td>\n",
       "      <td>1</td>\n",
       "      <td>0.0</td>\n",
       "      <td>8064.0</td>\n",
       "      <td>42811.0</td>\n",
       "      <td>0.0</td>\n",
       "      <td>...</td>\n",
       "      <td>0.7703</td>\n",
       "      <td>0.4157</td>\n",
       "      <td>0.3457</td>\n",
       "      <td>0.0585</td>\n",
       "      <td>0.0151</td>\n",
       "      <td>0.0045</td>\n",
       "      <td>0.0024</td>\n",
       "      <td>0.0</td>\n",
       "      <td>0.158</td>\n",
       "      <td>50875.0</td>\n",
       "    </tr>\n",
       "  </tbody>\n",
       "</table>\n",
       "<p>1 rows × 45 columns</p>\n",
       "</div>"
      ],
      "text/plain": [
       "                   Unnamed: 0  unit_id  ope_id  main_campus  branches  \\\n",
       "name                                                                    \n",
       "Walden University         247   125231   25042            1         1   \n",
       "\n",
       "                   open_admissions  avg_sat  undergrad_pop  grad_pop  cost  \\\n",
       "name                                                                         \n",
       "Walden University                1      0.0         8064.0   42811.0   0.0   \n",
       "\n",
       "                   ...  female  race_white  race_black  race_hispanic  \\\n",
       "name               ...                                                  \n",
       "Walden University  ...  0.7703      0.4157      0.3457         0.0585   \n",
       "\n",
       "                   race_asian  race_native  race_pacific  net_cost  \\\n",
       "name                                                                 \n",
       "Walden University      0.0151       0.0045        0.0024       0.0   \n",
       "\n",
       "                   race_other  total_pop  \n",
       "name                                      \n",
       "Walden University       0.158    50875.0  \n",
       "\n",
       "[1 rows x 45 columns]"
      ]
     },
     "execution_count": 29,
     "metadata": {},
     "output_type": "execute_result"
    }
   ],
   "source": [
    "df.groupby('name').sum().nlargest(1,'grad_pop')"
   ]
  },
  {
   "cell_type": "code",
   "execution_count": 30,
   "id": "e8c00a2f",
   "metadata": {},
   "outputs": [
    {
     "data": {
      "text/html": [
       "<div>\n",
       "<style scoped>\n",
       "    .dataframe tbody tr th:only-of-type {\n",
       "        vertical-align: middle;\n",
       "    }\n",
       "\n",
       "    .dataframe tbody tr th {\n",
       "        vertical-align: top;\n",
       "    }\n",
       "\n",
       "    .dataframe thead th {\n",
       "        text-align: right;\n",
       "    }\n",
       "</style>\n",
       "<table border=\"1\" class=\"dataframe\">\n",
       "  <thead>\n",
       "    <tr style=\"text-align: right;\">\n",
       "      <th></th>\n",
       "      <th>name</th>\n",
       "    </tr>\n",
       "  </thead>\n",
       "  <tbody>\n",
       "    <tr>\n",
       "      <th>247</th>\n",
       "      <td>Walden University</td>\n",
       "    </tr>\n",
       "  </tbody>\n",
       "</table>\n",
       "</div>"
      ],
      "text/plain": [
       "                  name\n",
       "247  Walden University"
      ]
     },
     "execution_count": 30,
     "metadata": {},
     "output_type": "execute_result"
    }
   ],
   "source": [
    "df.nlargest(1,'grad_pop')[['name']]"
   ]
  },
  {
   "cell_type": "markdown",
   "id": "f6c102ac",
   "metadata": {},
   "source": [
    "above both codes results into same answer i.e. Walden University.This is different than the university got in part b. So the university we found in part b don't have the largest amount of grad_pop"
   ]
  },
  {
   "cell_type": "markdown",
   "id": "c174b20f",
   "metadata": {},
   "source": [
    "### 8.For schools that are for-profit in ownership and issue Bachelor’s degrees as their primary_degree, do the following:"
   ]
  },
  {
   "cell_type": "code",
   "execution_count": 31,
   "id": "21a32bd3",
   "metadata": {},
   "outputs": [],
   "source": [
    "df_group_profit_bachelor = df.groupby(['ownership','primary_degree']).get_group(('For Profit','Bachelor'))"
   ]
  },
  {
   "cell_type": "code",
   "execution_count": 32,
   "id": "076a0d74",
   "metadata": {
    "scrolled": true
   },
   "outputs": [
    {
     "data": {
      "text/html": [
       "<div>\n",
       "<style scoped>\n",
       "    .dataframe tbody tr th:only-of-type {\n",
       "        vertical-align: middle;\n",
       "    }\n",
       "\n",
       "    .dataframe tbody tr th {\n",
       "        vertical-align: top;\n",
       "    }\n",
       "\n",
       "    .dataframe thead th {\n",
       "        text-align: right;\n",
       "    }\n",
       "</style>\n",
       "<table border=\"1\" class=\"dataframe\">\n",
       "  <thead>\n",
       "    <tr style=\"text-align: right;\">\n",
       "      <th></th>\n",
       "      <th>Unnamed: 0</th>\n",
       "      <th>unit_id</th>\n",
       "      <th>ope_id</th>\n",
       "      <th>main_campus</th>\n",
       "      <th>branches</th>\n",
       "      <th>open_admissions</th>\n",
       "      <th>name</th>\n",
       "      <th>city</th>\n",
       "      <th>state</th>\n",
       "      <th>zip</th>\n",
       "      <th>...</th>\n",
       "      <th>female</th>\n",
       "      <th>race_white</th>\n",
       "      <th>race_black</th>\n",
       "      <th>race_hispanic</th>\n",
       "      <th>race_asian</th>\n",
       "      <th>race_native</th>\n",
       "      <th>race_pacific</th>\n",
       "      <th>net_cost</th>\n",
       "      <th>race_other</th>\n",
       "      <th>total_pop</th>\n",
       "    </tr>\n",
       "  </thead>\n",
       "  <tbody>\n",
       "    <tr>\n",
       "      <th>41</th>\n",
       "      <td>41</td>\n",
       "      <td>103723</td>\n",
       "      <td>21603</td>\n",
       "      <td>False</td>\n",
       "      <td>4</td>\n",
       "      <td>False</td>\n",
       "      <td>Collins College</td>\n",
       "      <td>Phoenix</td>\n",
       "      <td>AZ</td>\n",
       "      <td>85040</td>\n",
       "      <td>...</td>\n",
       "      <td>0.2559</td>\n",
       "      <td>0.3465</td>\n",
       "      <td>0.0827</td>\n",
       "      <td>0.1614</td>\n",
       "      <td>0.0079</td>\n",
       "      <td>0.0276</td>\n",
       "      <td>0.0118</td>\n",
       "      <td>NaN</td>\n",
       "      <td>0.3622</td>\n",
       "      <td>NaN</td>\n",
       "    </tr>\n",
       "    <tr>\n",
       "      <th>49</th>\n",
       "      <td>49</td>\n",
       "      <td>104188</td>\n",
       "      <td>24915</td>\n",
       "      <td>True</td>\n",
       "      <td>2</td>\n",
       "      <td>True</td>\n",
       "      <td>Southwest University of Visual Arts-Tucson</td>\n",
       "      <td>Tucson</td>\n",
       "      <td>AZ</td>\n",
       "      <td>85716</td>\n",
       "      <td>...</td>\n",
       "      <td>0.5370</td>\n",
       "      <td>0.5324</td>\n",
       "      <td>0.0648</td>\n",
       "      <td>0.2870</td>\n",
       "      <td>0.0093</td>\n",
       "      <td>0.0509</td>\n",
       "      <td>0.0000</td>\n",
       "      <td>46298.0</td>\n",
       "      <td>0.0556</td>\n",
       "      <td>221.0</td>\n",
       "    </tr>\n",
       "  </tbody>\n",
       "</table>\n",
       "<p>2 rows × 53 columns</p>\n",
       "</div>"
      ],
      "text/plain": [
       "    Unnamed: 0  unit_id  ope_id  main_campus  branches  open_admissions  \\\n",
       "41          41   103723   21603        False         4            False   \n",
       "49          49   104188   24915         True         2             True   \n",
       "\n",
       "                                          name     city state    zip  ...  \\\n",
       "41                             Collins College  Phoenix    AZ  85040  ...   \n",
       "49  Southwest University of Visual Arts-Tucson   Tucson    AZ  85716  ...   \n",
       "\n",
       "    female race_white race_black race_hispanic  race_asian  race_native  \\\n",
       "41  0.2559     0.3465     0.0827        0.1614      0.0079       0.0276   \n",
       "49  0.5370     0.5324     0.0648        0.2870      0.0093       0.0509   \n",
       "\n",
       "    race_pacific  net_cost  race_other  total_pop  \n",
       "41        0.0118       NaN      0.3622        NaN  \n",
       "49        0.0000   46298.0      0.0556      221.0  \n",
       "\n",
       "[2 rows x 53 columns]"
      ]
     },
     "execution_count": 32,
     "metadata": {},
     "output_type": "execute_result"
    }
   ],
   "source": [
    "df_group_profit_bachelor.head(2)"
   ]
  },
  {
   "cell_type": "markdown",
   "id": "56572c5f",
   "metadata": {},
   "source": [
    "#### 8 Part a. Visualize revenue_per_student and spending_per_student and describe the relationship. What issues may arise when fitting a linear regression model?\n"
   ]
  },
  {
   "cell_type": "code",
   "execution_count": 33,
   "id": "d807dda0",
   "metadata": {},
   "outputs": [
    {
     "data": {
      "text/plain": [
       "0        9063.0\n",
       "1        9033.0\n",
       "2       12057.0\n",
       "3        8322.0\n",
       "4        7813.0\n",
       "         ...   \n",
       "3307        NaN\n",
       "3308        NaN\n",
       "3309        NaN\n",
       "3310        NaN\n",
       "3311        NaN\n",
       "Name: revenue_per_student, Length: 3312, dtype: float64"
      ]
     },
     "execution_count": 33,
     "metadata": {},
     "output_type": "execute_result"
    }
   ],
   "source": [
    "df.revenue_per_student"
   ]
  },
  {
   "cell_type": "code",
   "execution_count": 34,
   "id": "9f0bb5c8",
   "metadata": {},
   "outputs": [
    {
     "data": {
      "text/plain": [
       "<AxesSubplot:xlabel='revenue_per_student', ylabel='spend_per_student'>"
      ]
     },
     "execution_count": 34,
     "metadata": {},
     "output_type": "execute_result"
    },
    {
     "data": {
      "image/png": "[encoded data removed]",
      "text/plain": [
       "<Figure size 800x600 with 1 Axes>"
      ]
     },
     "metadata": {},
     "output_type": "display_data"
    }
   ],
   "source": [
    "plt.figure(figsize = (8,6))\n",
    "sns.scatterplot(x = 'revenue_per_student',y='spend_per_student',data = df_group_profit_bachelor,color = 'orange')"
   ]
  },
  {
   "cell_type": "markdown",
   "id": "fcda26c7",
   "metadata": {},
   "source": [
    "We can see that above two features have the linear relationship upto some range. The range of revenue got per student is around 10000 to 20000 and for these students around 2500 - 5000 is spent.Here there are some outiers too. Like some colleges spend high on students even though the revenue from them is far less and there are some colleges which are getting high revenue without spending much on students. \n",
    "So while using linear regression we must deal with these outliers."
   ]
  },
  {
   "cell_type": "markdown",
   "id": "516b0076",
   "metadata": {},
   "source": [
    "#### 8.Part b. Create a new variable called total_net_income. Think carefully about how this variable would be calculated. Visualize the top 5 earning schools."
   ]
  },
  {
   "cell_type": "code",
   "execution_count": 35,
   "id": "63aa9d13",
   "metadata": {},
   "outputs": [],
   "source": [
    "total_expense = df_group_profit_bachelor.total_pop * df_group_profit_bachelor.spend_per_student"
   ]
  },
  {
   "cell_type": "code",
   "execution_count": 36,
   "id": "61382724",
   "metadata": {},
   "outputs": [],
   "source": [
    "total_revenue = df_group_profit_bachelor.total_pop * df_group_profit_bachelor.revenue_per_student"
   ]
  },
  {
   "cell_type": "code",
   "execution_count": 37,
   "id": "78cf81d2",
   "metadata": {},
   "outputs": [
    {
     "data": {
      "text/plain": [
       "41              NaN\n",
       "49        2659293.0\n",
       "53      436293770.0\n",
       "60       35612400.0\n",
       "64       21300906.0\n",
       "           ...     \n",
       "3102     45623214.0\n",
       "3103      2004497.0\n",
       "3104     17989088.0\n",
       "3105      7693063.0\n",
       "3106      3611216.0\n",
       "Length: 305, dtype: float64"
      ]
     },
     "execution_count": 37,
     "metadata": {},
     "output_type": "execute_result"
    }
   ],
   "source": [
    "total_net_income = total_revenue - total_expense\n",
    "total_net_income"
   ]
  },
  {
   "cell_type": "code",
   "execution_count": 38,
   "id": "e6fe0095",
   "metadata": {},
   "outputs": [
    {
     "name": "stderr",
     "output_type": "stream",
     "text": [
      "C:\\Users\\vijay\\AppData\\Local\\Temp\\ipykernel_21344\\2173361107.py:1: SettingWithCopyWarning: \n",
      "A value is trying to be set on a copy of a slice from a DataFrame.\n",
      "Try using .loc[row_indexer,col_indexer] = value instead\n",
      "\n",
      "See the caveats in the documentation: https://pandas.pydata.org/pandas-docs/stable/user_guide/indexing.html#returning-a-view-versus-a-copy\n",
      "  df_group_profit_bachelor['total_net_income'] = total_net_income\n"
     ]
    },
    {
     "data": {
      "text/html": [
       "<div>\n",
       "<style scoped>\n",
       "    .dataframe tbody tr th:only-of-type {\n",
       "        vertical-align: middle;\n",
       "    }\n",
       "\n",
       "    .dataframe tbody tr th {\n",
       "        vertical-align: top;\n",
       "    }\n",
       "\n",
       "    .dataframe thead th {\n",
       "        text-align: right;\n",
       "    }\n",
       "</style>\n",
       "<table border=\"1\" class=\"dataframe\">\n",
       "  <thead>\n",
       "    <tr style=\"text-align: right;\">\n",
       "      <th></th>\n",
       "      <th>Unnamed: 0</th>\n",
       "      <th>unit_id</th>\n",
       "      <th>ope_id</th>\n",
       "      <th>main_campus</th>\n",
       "      <th>branches</th>\n",
       "      <th>open_admissions</th>\n",
       "      <th>name</th>\n",
       "      <th>city</th>\n",
       "      <th>state</th>\n",
       "      <th>zip</th>\n",
       "      <th>...</th>\n",
       "      <th>race_white</th>\n",
       "      <th>race_black</th>\n",
       "      <th>race_hispanic</th>\n",
       "      <th>race_asian</th>\n",
       "      <th>race_native</th>\n",
       "      <th>race_pacific</th>\n",
       "      <th>net_cost</th>\n",
       "      <th>race_other</th>\n",
       "      <th>total_pop</th>\n",
       "      <th>total_net_income</th>\n",
       "    </tr>\n",
       "  </thead>\n",
       "  <tbody>\n",
       "    <tr>\n",
       "      <th>41</th>\n",
       "      <td>41</td>\n",
       "      <td>103723</td>\n",
       "      <td>21603</td>\n",
       "      <td>False</td>\n",
       "      <td>4</td>\n",
       "      <td>False</td>\n",
       "      <td>Collins College</td>\n",
       "      <td>Phoenix</td>\n",
       "      <td>AZ</td>\n",
       "      <td>85040</td>\n",
       "      <td>...</td>\n",
       "      <td>0.3465</td>\n",
       "      <td>0.0827</td>\n",
       "      <td>0.1614</td>\n",
       "      <td>0.0079</td>\n",
       "      <td>0.0276</td>\n",
       "      <td>0.0118</td>\n",
       "      <td>NaN</td>\n",
       "      <td>0.3622</td>\n",
       "      <td>NaN</td>\n",
       "      <td>NaN</td>\n",
       "    </tr>\n",
       "    <tr>\n",
       "      <th>49</th>\n",
       "      <td>49</td>\n",
       "      <td>104188</td>\n",
       "      <td>24915</td>\n",
       "      <td>True</td>\n",
       "      <td>2</td>\n",
       "      <td>True</td>\n",
       "      <td>Southwest University of Visual Arts-Tucson</td>\n",
       "      <td>Tucson</td>\n",
       "      <td>AZ</td>\n",
       "      <td>85716</td>\n",
       "      <td>...</td>\n",
       "      <td>0.5324</td>\n",
       "      <td>0.0648</td>\n",
       "      <td>0.2870</td>\n",
       "      <td>0.0093</td>\n",
       "      <td>0.0509</td>\n",
       "      <td>0.0000</td>\n",
       "      <td>46298.0</td>\n",
       "      <td>0.0556</td>\n",
       "      <td>221.0</td>\n",
       "      <td>2659293.0</td>\n",
       "    </tr>\n",
       "  </tbody>\n",
       "</table>\n",
       "<p>2 rows × 54 columns</p>\n",
       "</div>"
      ],
      "text/plain": [
       "    Unnamed: 0  unit_id  ope_id  main_campus  branches  open_admissions  \\\n",
       "41          41   103723   21603        False         4            False   \n",
       "49          49   104188   24915         True         2             True   \n",
       "\n",
       "                                          name     city state    zip  ...  \\\n",
       "41                             Collins College  Phoenix    AZ  85040  ...   \n",
       "49  Southwest University of Visual Arts-Tucson   Tucson    AZ  85716  ...   \n",
       "\n",
       "   race_white race_black race_hispanic race_asian  race_native  race_pacific  \\\n",
       "41     0.3465     0.0827        0.1614     0.0079       0.0276        0.0118   \n",
       "49     0.5324     0.0648        0.2870     0.0093       0.0509        0.0000   \n",
       "\n",
       "    net_cost  race_other  total_pop  total_net_income  \n",
       "41       NaN      0.3622        NaN               NaN  \n",
       "49   46298.0      0.0556      221.0         2659293.0  \n",
       "\n",
       "[2 rows x 54 columns]"
      ]
     },
     "execution_count": 38,
     "metadata": {},
     "output_type": "execute_result"
    }
   ],
   "source": [
    "df_group_profit_bachelor['total_net_income'] = total_net_income\n",
    "df_group_profit_bachelor.head(2)"
   ]
  },
  {
   "cell_type": "code",
   "execution_count": 39,
   "id": "4fbdc8df",
   "metadata": {},
   "outputs": [
    {
     "data": {
      "text/html": [
       "<div>\n",
       "<style scoped>\n",
       "    .dataframe tbody tr th:only-of-type {\n",
       "        vertical-align: middle;\n",
       "    }\n",
       "\n",
       "    .dataframe tbody tr th {\n",
       "        vertical-align: top;\n",
       "    }\n",
       "\n",
       "    .dataframe thead th {\n",
       "        text-align: right;\n",
       "    }\n",
       "</style>\n",
       "<table border=\"1\" class=\"dataframe\">\n",
       "  <thead>\n",
       "    <tr style=\"text-align: right;\">\n",
       "      <th></th>\n",
       "      <th>name</th>\n",
       "      <th>total_net_income</th>\n",
       "    </tr>\n",
       "  </thead>\n",
       "  <tbody>\n",
       "    <tr>\n",
       "      <th>2370</th>\n",
       "      <td>University of Phoenix-Online Campus</td>\n",
       "      <td>2.632326e+09</td>\n",
       "    </tr>\n",
       "    <tr>\n",
       "      <th>678</th>\n",
       "      <td>Ashford University</td>\n",
       "      <td>6.201932e+08</td>\n",
       "    </tr>\n",
       "    <tr>\n",
       "      <th>2448</th>\n",
       "      <td>Capella University</td>\n",
       "      <td>5.784589e+08</td>\n",
       "    </tr>\n",
       "    <tr>\n",
       "      <th>53</th>\n",
       "      <td>Grand Canyon University</td>\n",
       "      <td>4.362938e+08</td>\n",
       "    </tr>\n",
       "    <tr>\n",
       "      <th>2322</th>\n",
       "      <td>Kaplan University-Davenport Campus</td>\n",
       "      <td>4.329276e+08</td>\n",
       "    </tr>\n",
       "  </tbody>\n",
       "</table>\n",
       "</div>"
      ],
      "text/plain": [
       "                                     name  total_net_income\n",
       "2370  University of Phoenix-Online Campus      2.632326e+09\n",
       "678                    Ashford University      6.201932e+08\n",
       "2448                   Capella University      5.784589e+08\n",
       "53                Grand Canyon University      4.362938e+08\n",
       "2322   Kaplan University-Davenport Campus      4.329276e+08"
      ]
     },
     "execution_count": 39,
     "metadata": {},
     "output_type": "execute_result"
    }
   ],
   "source": [
    "df_top5_earning_schools = df_group_profit_bachelor.nlargest(5,'total_net_income')[['name','total_net_income']]\n",
    "df_top5_earning_schools"
   ]
  },
  {
   "cell_type": "code",
   "execution_count": 40,
   "id": "52f6618a",
   "metadata": {},
   "outputs": [
    {
     "data": {
      "text/plain": [
       "<AxesSubplot:xlabel='total_net_income', ylabel='name'>"
      ]
     },
     "execution_count": 40,
     "metadata": {},
     "output_type": "execute_result"
    },
    {
     "data": {
      "image/png": "[encoded data removed]",
      "text/plain": [
       "<Figure size 800x600 with 1 Axes>"
      ]
     },
     "metadata": {},
     "output_type": "display_data"
    }
   ],
   "source": [
    "plt.figure(figsize = (8,6))\n",
    "sns.barplot(y = 'name',x = 'total_net_income',data = df_top5_earning_schools)"
   ]
  },
  {
   "cell_type": "markdown",
   "id": "2c6d926f",
   "metadata": {},
   "source": [
    "## 9.Now, examine the relationship between avg_sat and admission for all schools."
   ]
  },
  {
   "cell_type": "markdown",
   "id": "0afe3140",
   "metadata": {},
   "source": [
    "#### Part a. Use an appropriate plot to visualize the relationship. Split the data into two groups based on their combination of avg_sat and admission. Justify your answer. Hint: How does the variance of admission depend on values of avg_sat?. Define this variable as group"
   ]
  },
  {
   "cell_type": "code",
   "execution_count": 41,
   "id": "f640d48f",
   "metadata": {},
   "outputs": [
    {
     "data": {
      "image/png": "[encoded data removed]",
      "text/plain": [
       "<Figure size 1000x800 with 1 Axes>"
      ]
     },
     "metadata": {},
     "output_type": "display_data"
    }
   ],
   "source": [
    "plt.figure(figsize = (10,8))\n",
    "sns.scatterplot(x='avg_sat',y = 'admission',data= df)\n",
    "plt.show()"
   ]
  },
  {
   "cell_type": "markdown",
   "id": "d1fca6e8",
   "metadata": {},
   "source": [
    "In above plot we can see that,majority of colleges are having the avg_sat score in between 850 to 1200 & there are some collegses where avg_sat is quite high.\n",
    "\n",
    "so we can make two groups/classes as avg sat score from 850-1200 as low score and beyond 1200 as high sat score.First group is having admission greater than 0.4 and second group is having less than 0.6"
   ]
  },
  {
   "cell_type": "markdown",
   "id": "67fa87d5",
   "metadata": {},
   "source": []
  }
 ],
 "metadata": {
  "kernelspec": {
   "display_name": "Python 3 (ipykernel)",
   "language": "python",
   "name": "python3"
  },
  "language_info": {
   "codemirror_mode": {
    "name": "ipython",
    "version": 3
   },
   "file_extension": ".py",
   "mimetype": "text/x-python",
   "name": "python",
   "nbconvert_exporter": "python",
   "pygments_lexer": "ipython3",
   "version": "3.9.13"
  }
 },
 "nbformat": 4,
 "nbformat_minor": 5
}
